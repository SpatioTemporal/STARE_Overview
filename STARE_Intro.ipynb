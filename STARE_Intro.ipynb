{
 "cells": [
  {
   "cell_type": "markdown",
   "id": "continuing-pioneer",
   "metadata": {
    "papermill": {},
    "tags": []
   },
   "source": [
    "<img width=\"80%\" alt=\"STARE_index_in_merra2_sidecar_stare.png\" src=\"STARE_index_in_merra2_sidecar_stare.png\" style=\"border-radius: 15%\">\n",
    "\n",
    "# What is STARE?\n",
    "`STARE`, or SpatioTemporal Adaptive-Resolution Encoding, is an improved approach for working with geospatial data akin to using the familiar geographic surface coordinates (latitude and longitude).\n",
    "\n",
    "Before making this case, we should point out that `STARE` also works on the time dimension. We will come back to this point, but for now we'll focus on the geospatial aspects of `STARE`."
   ]
  },
  {
   "cell_type": "markdown",
   "id": "a2816780",
   "metadata": {},
   "source": [
    "## Limitations of latitude and longitude\n",
    "The geographic surface coordinate system (i.e., latitude and longitude) has several inconvenient properties when it comes to working with geospatial objects (e.g., a surface polygon whose vertices are coordinate pairs of latitude and longitude). The first issue is that it's possible to draw such a polygon such that it touches or encloses a coordinate singularity (a pole). That is, the convergence of latitude makes longitude mathematically undefined at each pole (essentially division by zero). In addition to this, pole inclosing polygons introduce an ambiguity concerning the status of their interior and exterior; is the closest pole to be taken as being \"inside\" or \"outside\" the polygon? The most clear example of this ambiguity is the equator, which can be equally said to enclose either hemisphere.\n",
    "\n",
    "Besides this polar coordinate singularity, the geographic surface coordinate system has a coordinate discontinuity due to the cyclic/wrapping of longitudes (i.e., at the edges $0/360^\\circ$ or $\\pm 180^\\circ$). The incongruous longitude values at this boundary (e.g., from $-179^\\circ$ to $+181^\\circ$) requires special treatment for object geometries spanning this discontinuity. Even the fact that longitude is alternatively expressed as $0/360^\\circ$ or $\\pm 180^\\circ$ introduces extra checks when working with the geographic coordinate system.\n",
    "\n",
    "These problems are artifacts of the 2D nature of the geographic coordinate system which can be removed by the addition of a vertical dimension (i.e., spherical coordinates via geocentric radius). However, this solution comes at cost of increased computation and complexity. Alternatively, we can use a 2D projection surface. Here the geographic coordinates (lat, lon) are projected (with distortion) onto the 2D mapping plane of Cartesian coordinates (x, y). Judicious projection choice can mitigate the problems with geographic coordinates, but again, they also introduce new shortcomings (distortions) and computational costs.\n",
    "\n",
    "`STARE` offers a way to avoid these limitations that is both efficient and relatively intuitive. "
   ]
  },
  {
   "cell_type": "markdown",
   "id": "05bd39f4",
   "metadata": {},
   "source": [
    "## How does STARE work?\n",
    "A key idea to remember with `STARE` is that it fundamentally works on intervals (i.e., areas) not points as with the geographic coordinate system. Thus, a location (lat, lon) for `STARE` is referenced by an index (i.e., address) of the element (geometric shape, in this case a spherical triangle, AKA a \"trixel\") containing the location.\n",
    "\n",
    "<img width=\"40%\" alt=\"Triangles-N0-red-N01-green-N012-purple-N0123-cyan_W640.jpg\" src=\"Triangles-N0-red-N01-green-N012-purple-N0123-cyan_W640.jpg\" style=\"border-radius: 15%\">(STARE spherical triangles or trixels.)\n",
    "\n",
    "This is more sophisticated and useful that it first appears. For example, this `STARE` index quickly scales across a huge range of trixel areas/sizes for a given use (basically resolution, from centimeters to hemispheres). Moreover, `STARE` indices are cleverly formatted 64-bit integers such that the bit-positions convey information concerning a trixel's location. First, note that we have shifted from working with a coordinate-pair of floating-point numbers to use of a single integer. Second, `STARE` trixels smoothly and completely tile the globe. So no singularities or discontinuities. Third, traversing a `STARE` index is fast and accurate, being based on comparing binary-position values which equates into traversing a binary-tree structure. Without getting to the details, we can think of this traversal as a series of refining questions; Is the trixel in the Northern or Southern Hemisphere? Is the trixel in the Eastern or Western Hemisphere? and so on down to the requested level/resolution. Thus, comparing a set of STARE indices to determine if they are in the same polar hemisphere is very fast, as is testing for mutual areal-enclosure at much smaller scales. Indeed, one can think of operations on groups of STARE indices in terms of set-operations (union, intersection, complement etc.).\n",
    "\n",
    "We can now return to the issue of how `STARE` handles time. As with space, STARE temporal indexes work on intervals (ranging from years to micro-seconds). Thus, determining whether two time intervals overlap is reduced to bit-position references along 64-bit integers.\n",
    "\n",
    "Finally, we can point to the `STARE` software itself. Of which, there are three main tools. The first, is the `STARE` library itself, which is written in C/C++ with APIs for Python and C/C++.\n",
    "\n",
    "* [STARE (on github)](https://github.com/SpatioTemporal/STARE)\n",
    "\n",
    "Second, we have a [Python](https://www.python.org/) package for working with the `STARE` API mostly via [Numpy](https://numpy.org/). This is `pySTARE`.\n",
    "\n",
    "* [pySTARE (on github)](https://github.com/SpatioTemporal/pystare)\n",
    "\n",
    "Third, we have a Python package for working with the `STARE` API via [Pandas](https://pandas.pydata.org/)/[GeoPandas](https://geopandas.org/en/stable/getting_started/introduction.html) dataframes. This is `STAREpandas`.\n",
    "\n",
    "* [STAREPandas (on github)](https://github.com/SpatioTemporal/STAREPandas)\n",
    "\n",
    "Note `pySTARE` and `STAREpandas` have been tested with Python v3.12, Numpy v2.2, Pandas v2.2 and GeoPandas v1.0.\n",
    "`STARE`, `pySTARE` and `STAREpandas` have been installed and tested on `x86_64` under [Ubuntu](https://ubuntu.com/) and `ARM64` on [macOS](https://support.apple.com/mac). In addition, `STARE`, `pySTARE` and `STAREpandas` can be installed via the [Anaconda](https://www.anaconda.com/) ecosystem."
   ]
  },
  {
   "cell_type": "markdown",
   "id": "naas-author",
   "metadata": {
    "papermill": {}
   },
   "source": [
    "**Author:** [Mike Bauer](mbauer@bayesics.com)"
   ]
  },
  {
   "cell_type": "markdown",
   "id": "d4c5038f-0245-4012-96de-7307ac777865",
   "metadata": {
    "papermill": {},
    "tags": []
   },
   "source": [
    "**Last update:** 03-April-2025 (Created: 03-April-2025)"
   ]
  }
 ],
 "metadata": {
  "kernelspec": {
   "display_name": "stare2",
   "language": "python",
   "name": "python3"
  },
  "language_info": {
   "codemirror_mode": {
    "name": "ipython",
    "version": 3
   },
   "file_extension": ".py",
   "mimetype": "text/x-python",
   "name": "python",
   "nbconvert_exporter": "python",
   "pygments_lexer": "ipython3",
   "version": "3.13.2"
  },
  "naas": {
   "notebook_id": "c4aa64628872dabf26a9f58ad9be5a790a83a704cfcd3b791774f949ce8df046",
   "notebook_path": "Matplotlib/Matplotlib_Create_Barchart.ipynb"
  },
  "papermill": {
   "default_parameters": {},
   "environment_variables": {},
   "parameters": {},
   "version": "2.3.3"
  }
 },
 "nbformat": 4,
 "nbformat_minor": 5
}
